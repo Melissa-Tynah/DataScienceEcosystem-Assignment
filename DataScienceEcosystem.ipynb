{
 "cells": [
  {
   "cell_type": "markdown",
   "id": "c2a35be2-e206-40a6-be82-897c95b37449",
   "metadata": {
    "tags": []
   },
   "source": [
    "# Data Science Tools and Ecosystem"
   ]
  },
  {
   "cell_type": "markdown",
   "id": "7c561396-fa19-4616-945f-d69f3edf5ff6",
   "metadata": {},
   "source": [
    "In this notebook, Data Science Tools and Ecosystem are summarized."
   ]
  },
  {
   "cell_type": "markdown",
   "id": "a84f16dd-7e18-4205-9c06-0da97fee2384",
   "metadata": {
    "tags": []
   },
   "source": [
    "Some of the popular languages that Data Scientists use are:\n",
    "\n",
    "1. Python\n",
    "2. R\n",
    "3. SQL\n",
    "4. Java\n",
    "5. Scala\n",
    "6. C++\n"
   ]
  },
  {
   "cell_type": "markdown",
   "id": "5439c6cd-e74d-4d84-8a75-1a58bedc0a96",
   "metadata": {},
   "source": [
    "Some of the commonly used libaries by Data Scientists include:\n",
    "\n",
    "1. Pandas\n",
    "2. Matplotlib\n",
    "3. Scikit-learn\n",
    "4. Keras\n",
    "5. Pytorch\n",
    "6. Tensorflow"
   ]
  },
  {
   "cell_type": "markdown",
   "id": "7ee6a6e1-2161-4a0d-87b0-44a641e0498b",
   "metadata": {},
   "source": [
    "|Data Science Tools|\n",
    "|------------------|\n",
    "|Jupyter           |\n",
    "|RStudio           |\n",
    "|Microsoft Visual Studio|\n"
   ]
  },
  {
   "cell_type": "markdown",
   "id": "e67776b0-3b49-420c-a09a-eedb0df5b9e7",
   "metadata": {},
   "source": [
    "### Below are a few examples of evaluating arithmetic expressions in Python."
   ]
  },
  {
   "cell_type": "code",
   "execution_count": 1,
   "id": "f99d25c4-6775-43b0-91f9-4c030b592582",
   "metadata": {},
   "outputs": [
    {
     "data": {
      "text/plain": [
       "17"
      ]
     },
     "execution_count": 1,
     "metadata": {},
     "output_type": "execute_result"
    }
   ],
   "source": [
    "# This a simple arithmetic expression to multiply then add integers\n",
    "\n",
    "(3*4)+5"
   ]
  },
  {
   "cell_type": "code",
   "execution_count": 2,
   "id": "1fffbd8f-8dda-4232-8b22-5608e9d1d952",
   "metadata": {},
   "outputs": [
    {
     "data": {
      "text/plain": [
       "3.3333333333333335"
      ]
     },
     "execution_count": 2,
     "metadata": {},
     "output_type": "execute_result"
    }
   ],
   "source": [
    "# This will convert 200 minutes to hours by diving by 60\n",
    "\n",
    "200/60"
   ]
  },
  {
   "cell_type": "markdown",
   "id": "dfe5cbb4-f28b-45fd-a9a7-f4a16dd1ba14",
   "metadata": {},
   "source": [
    "**Objectives:**\n",
    "\n",
    "\n",
    "- List popular languages for Data Science.\n",
    "- List commonly used libraries in Data Science.\n",
    "- Create a single column table and indicate three development environment open source tools used in data science.\n",
    "- Evaluate arithmetic expressions in Python.\n",
    "- Create an introductory line in bold and use an unordered list to indicate 3-5 objectives covered in this notebook.\n",
    "\n",
    "\n"
   ]
  },
  {
   "cell_type": "markdown",
   "id": "130f4d3f-b6c2-496e-b380-cb64f0acbc03",
   "metadata": {},
   "source": [
    "## Author\n",
    "Tinashe Melissa Nyamurowa"
   ]
  }
 ],
 "metadata": {
  "kernelspec": {
   "display_name": "Python 3 (ipykernel)",
   "language": "python",
   "name": "python3"
  },
  "language_info": {
   "codemirror_mode": {
    "name": "ipython",
    "version": 3
   },
   "file_extension": ".py",
   "mimetype": "text/x-python",
   "name": "python",
   "nbconvert_exporter": "python",
   "pygments_lexer": "ipython3",
   "version": "3.9.7"
  }
 },
 "nbformat": 4,
 "nbformat_minor": 5
}
